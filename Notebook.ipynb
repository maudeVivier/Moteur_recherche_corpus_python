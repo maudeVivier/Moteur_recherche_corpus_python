{
 "cells": [
  {
   "cell_type": "markdown",
   "metadata": {},
   "source": [
    "TD5 Partie 5 : Interface Notebook"
   ]
  },
  {
   "cell_type": "code",
   "execution_count": 37,
   "metadata": {},
   "outputs": [
    {
     "name": "stdout",
     "output_type": "stream",
     "text": [
      "Source: ArxivDocument \t# Co-Auteur : Co-Auteur Arxiv\t# titre : Titre Arxiv\n",
      "Source: RedditDocument \t# Auteur : Auteur Reddit\t# titre : Titre Reddit\t# nombres de commentaires : 10\n"
     ]
    }
   ],
   "source": [
    "# Classes et fonctions nécessaires\n",
    "from Corpus import Corpus\n",
    "from Classes_filles import RedditDocument, ArxivDocument\n",
    "from DesignPattern import DocumentFactory\n",
    "\n",
    "# Crée une instance de Corpus\n",
    "corpus = Corpus(nom=\"Mon Corpus\")\n",
    "\n",
    "# Crée des instances de documents de type Reddit et Arxit\n",
    "reddit_doc = RedditDocument(titre=\"Titre Reddit\", auteur=\"Auteur Reddit\", nb_com=10)\n",
    "arxiv_doc = ArxivDocument(titre=\"Titre Arxiv\", auteur=\"Auteur Arxiv\", co_auteurs=\"Co-Auteur Arxiv\")\n",
    "\n",
    "# Ajoute les documents au corpus\n",
    "corpus.add(reddit_doc)\n",
    "corpus.add(arxiv_doc)\n",
    "\n",
    "# Affichez les documents du corpus\n",
    "#corpus.show()\n",
    "\n",
    "print(corpus)"
   ]
  },
  {
   "cell_type": "markdown",
   "metadata": {},
   "source": [
    "Test des possibilité avec Nootbook et la librairie ipywidgets"
   ]
  },
  {
   "cell_type": "markdown",
   "metadata": {},
   "source": [
    "Test 1"
   ]
  },
  {
   "cell_type": "code",
   "execution_count": 38,
   "metadata": {},
   "outputs": [
    {
     "data": {
      "application/vnd.jupyter.widget-view+json": {
       "model_id": "29818ffd944444eaa4a5d77b674b2701",
       "version_major": 2,
       "version_minor": 0
      },
      "text/plain": [
       "IntSlider(value=0)"
      ]
     },
     "metadata": {},
     "output_type": "display_data"
    },
    {
     "data": {
      "application/vnd.jupyter.widget-view+json": {
       "model_id": "7a4c94a98ec4438bb4407abd67778fb2",
       "version_major": 2,
       "version_minor": 0
      },
      "text/plain": [
       "Text(value='Moteur de recherche', disabled=True)"
      ]
     },
     "execution_count": 38,
     "metadata": {},
     "output_type": "execute_result"
    }
   ],
   "source": [
    "import ipywidgets as widgets\n",
    "\n",
    "widgets.IntSlider()\n",
    "\n",
    "from IPython.display import display\n",
    "\n",
    "w = widgets.IntSlider()\n",
    "display(w)\n",
    "w.value\n",
    "w.value = 100\n",
    "w.keys\n",
    "widgets.Text(value='Moteur de recherche', disabled=True)\n",
    "#w.close()"
   ]
  },
  {
   "cell_type": "markdown",
   "metadata": {},
   "source": [
    "Test 2 : avec un texte pris de https://lingua.com/fr/francais/lecture/"
   ]
  },
  {
   "cell_type": "code",
   "execution_count": 39,
   "metadata": {},
   "outputs": [
    {
     "data": {
      "application/vnd.jupyter.widget-view+json": {
       "model_id": "4d1487ff0193480fb0e7cadc86c4db8e",
       "version_major": 2,
       "version_minor": 0
      },
      "text/plain": [
       "VBox(children=(Text(value='python', description='Mot-clé :'), Button(description='Analyser', style=ButtonStyle…"
      ]
     },
     "metadata": {},
     "output_type": "display_data"
    }
   ],
   "source": [
    "import pickle\n",
    "import re\n",
    "import ipywidgets as widgets\n",
    "from IPython.display import display, clear_output\n",
    "\n",
    "# Texte sur lequel on effectue la recherche\n",
    "texte = \"Nous avons sélectionné avec des professeurs expérimentés de français des textes faciles à lire et amusants. A la fin des textes, un exercice sous forme de QCM permet de valider ses acquis. Il est à noter que l'édition gratuite des textes sous forme de PDF est un vrai plus. Désormais la langue de Molière n'aura plus de secret pour vous.\"\n",
    "\n",
    "# Formulaire interactif\n",
    "keyword_input = widgets.Text(description=\"Mot-clé :\", value=\"python\")\n",
    "analyse_button = widgets.Button(description=\"Analyser\")\n",
    "output = widgets.Output()\n",
    "\n",
    "# Fonction qui analyse le texte\n",
    "def analyse(b):\n",
    "    with output:\n",
    "        clear_output(wait=True)  # Efface la sortie précédente\n",
    "        keyword = keyword_input.value\n",
    "        # Afficher le mot-clé et le nombre d'articles\n",
    "        print(f\"Mot-clé : {keyword}\")\n",
    "\n",
    "        # Appel à la fonction de recherche avec les paramètres configurés\n",
    "        results = corpus.search(texte, keyword)\n",
    "        print(\"Résultats de la recherche :\", results)\n",
    "\n",
    "# Associer la fonction à l'événement de clic du bouton\n",
    "analyse_button.on_click(analyse)\n",
    "\n",
    "# Affichage du formulaire\n",
    "display(widgets.VBox([keyword_input, analyse_button, output]))\n"
   ]
  },
  {
   "cell_type": "markdown",
   "metadata": {},
   "source": [
    "Test 3 : analyse depuis le corpus "
   ]
  },
  {
   "cell_type": "code",
   "execution_count": 40,
   "metadata": {},
   "outputs": [
    {
     "data": {
      "application/vnd.jupyter.widget-view+json": {
       "model_id": "2eaa8dea079145bdb6bfb91d625c3e14",
       "version_major": 2,
       "version_minor": 0
      },
      "text/plain": [
       "VBox(children=(Text(value='python', description='Mot-clé :'), IntSlider(value=1, description='Identifiant de d…"
      ]
     },
     "metadata": {},
     "output_type": "display_data"
    }
   ],
   "source": [
    "# Formulaire interactif\n",
    "keyword_input = widgets.Text(description=\"Mot-clé :\", value=\"python\")\n",
    "doc_id_input = widgets.IntSlider(description=\"Identifiant de document :\", min=1, max=len(corpus.id2doc), value=1)\n",
    "analyse_button = widgets.Button(description=\"Analyser\")\n",
    "output = widgets.Output()\n",
    "\n",
    "# Fonction analyse à clique sur le bouton\n",
    "def analyse(b):\n",
    "    with output:\n",
    "        clear_output(wait=True)  # Efface la sortie précédente\n",
    "        keyword = keyword_input.value\n",
    "        doc_id = doc_id_input.value\n",
    "\n",
    "        if doc_id not in corpus.id2doc:\n",
    "            print(f\"Erreur : Aucun document trouvé avec l'identifiant {doc_id}\")\n",
    "            return\n",
    "\n",
    "        document = corpus.id2doc[doc_id]\n",
    "        text_to_search = corpus.nettoyer_texte(document.texte)\n",
    "\n",
    "        # Appel à la fonction de recherche de Corpus\n",
    "        results = corpus.search(text_to_search, keyword)\n",
    "\n",
    "        if results:\n",
    "            print(f\"Résultats de la recherche dans le document {doc_id} ({document.titre}) :\")\n",
    "            for result in results:\n",
    "                passages = result.get('passages', [])\n",
    "                for passage in passages:\n",
    "                    print(passage)\n",
    "        else:\n",
    "            print(f\"Aucun résultat trouvé dans le document {doc_id} ({document.titre}) pour le mot-clé '{keyword}'.\")\n",
    "\n",
    "# Associe la fonction à l'événement de clic du bouton\n",
    "analyse_button.on_click(analyse)\n",
    "\n",
    "# Affichage du formulaire\n",
    "display(widgets.VBox([keyword_input, doc_id_input, analyse_button, output]))\n"
   ]
  }
 ],
 "metadata": {
  "kernelspec": {
   "display_name": "Python",
   "language": "python",
   "name": "python3"
  },
  "language_info": {
   "codemirror_mode": {
    "name": "ipython",
    "version": 3
   },
   "file_extension": ".py",
   "mimetype": "text/x-python",
   "name": "python",
   "nbconvert_exporter": "python",
   "pygments_lexer": "ipython3",
   "version": "3.11.5"
  }
 },
 "nbformat": 4,
 "nbformat_minor": 2
}
